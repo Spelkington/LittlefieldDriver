{
    "cells": [
        {
            "cell_type": "code",
            "execution_count": 1,
            "source": [
                "%load_ext autoreload\n",
                "%autoreload 2"
            ],
            "outputs": [],
            "metadata": {}
        },
        {
            "cell_type": "code",
            "execution_count": 2,
            "source": [
                "import sys, os\n",
                "sys.path.insert(0, os.path.abspath('..'))"
            ],
            "outputs": [],
            "metadata": {}
        },
        {
            "cell_type": "code",
            "execution_count": 9,
            "source": [
                "import yaml\n",
                "from utils.LittlefieldDriver import LittlefieldDriver"
            ],
            "outputs": [],
            "metadata": {}
        },
        {
            "cell_type": "code",
            "execution_count": 10,
            "source": [
                "# Import the game configuration state & login secrets\n",
                "with open(r'../configs/secrets.yaml') as file:\n",
                "    SECRETS = yaml.load(file, Loader=yaml.FullLoader)\n",
                "\n",
                "with open(r'../configs/game_1.yaml') as file:\n",
                "    GAME_CONFIG = yaml.load(file, Loader=yaml.FullLoader)"
            ],
            "outputs": [],
            "metadata": {}
        },
        {
            "cell_type": "code",
            "execution_count": null,
            "source": [
                "\n",
                "lfd = LittlefieldDriver(\n",
                "    config = GAME_CONFIG,\n",
                "    secrets = SECRETS\n",
                ")"
            ],
            "outputs": [],
            "metadata": {}
        },
        {
            "cell_type": "code",
            "execution_count": null,
            "source": [],
            "outputs": [],
            "metadata": {}
        }
    ],
    "metadata": {
        "orig_nbformat": 4,
        "language_info": {
            "name": "python",
            "version": "3.8.8",
            "mimetype": "text/x-python",
            "codemirror_mode": {
                "name": "ipython",
                "version": 3
            },
            "pygments_lexer": "ipython3",
            "nbconvert_exporter": "python",
            "file_extension": ".py"
        },
        "kernelspec": {
            "name": "python3",
            "display_name": "Python 3.8.8 64-bit ('base': conda)"
        },
        "interpreter": {
            "hash": "efbb5f7d76e5561efa460d8a45b55d0b8eb2623c98d4274e36b0d68e9bc5c8fe"
        }
    },
    "nbformat": 4,
    "nbformat_minor": 2
}